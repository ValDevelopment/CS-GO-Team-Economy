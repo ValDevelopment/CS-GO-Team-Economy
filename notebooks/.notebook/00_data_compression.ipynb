{
 "cells": [
  {
   "cell_type": "code",
   "execution_count": 1,
   "id": "65fb17ee",
   "metadata": {},
   "outputs": [],
   "source": [
    "import numpy as np\n",
    "import pandas as pd\n",
    "import matplotlib as plot\n",
    "import os\n",
    "os.chdir(r\"C:\\Users\\Capta\\Documents\\GitHub\\csgo_econ_viz\")"
   ]
  },
  {
   "cell_type": "code",
   "execution_count": null,
   "id": "f69fa8e0",
   "metadata": {},
   "outputs": [],
   "source": [
    "df = pd.read_csv(\"data/raw/players.csv\")\n",
    "\n",
    "# Convert object columns with repeated values to category\n",
    "for col in df.select_dtypes(include=\"object\"):\n",
    "    if df[col].nunique() / len(df[col]) < 0.5:  # only if it's not mostly unique\n",
    "        df[col] = df[col].astype(\"category\")\n",
    "\n",
    "# Downcast numeric columns to smallest possible type\n",
    "df[df.select_dtypes(include=\"integer\").columns] = df.select_dtypes(include=\"integer\").apply(pd.to_numeric, downcast=\"integer\")\n",
    "df[df.select_dtypes(include=\"float\").columns]   = df.select_dtypes(include=\"float\").apply(pd.to_numeric, downcast=\"float\")\n",
    "\n",
    "# Save as compressed CSV\n",
    "df.to_csv(\"data/raw/players.csv\", index=False)"
   ]
  }
 ],
 "metadata": {
  "kernelspec": {
   "display_name": "Python 3",
   "language": "python",
   "name": "python3"
  },
  "language_info": {
   "codemirror_mode": {
    "name": "ipython",
    "version": 3
   },
   "file_extension": ".py",
   "mimetype": "text/x-python",
   "name": "python",
   "nbconvert_exporter": "python",
   "pygments_lexer": "ipython3",
   "version": "3.13.1"
  }
 },
 "nbformat": 4,
 "nbformat_minor": 5
}
