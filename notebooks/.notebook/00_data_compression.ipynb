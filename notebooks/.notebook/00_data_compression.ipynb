{
 "cells": [
  {
   "cell_type": "code",
   "execution_count": 2,
   "id": "65fb17ee",
   "metadata": {},
   "outputs": [],
   "source": [
    "import numpy as np\n",
    "import pandas as pd\n",
    "import matplotlib as plot\n",
    "import os\n",
    "os.chdir(r\"C:\\Users\\Capta\\Documents\\GitHub\\csgo_econ_viz\")"
   ]
  },
  {
   "cell_type": "markdown",
   "id": "73aa308d",
   "metadata": {},
   "source": [
    "Initial attempt at compressing the players.csv data as it's too large. The initial raw dataframe, players.csv will not be present in the repo.\n",
    "\n",
    "Info of the initial data:\n",
    "\n",
    "RangeIndex: 383317 entries, 0 to 383316\n",
    "\n",
    "Columns: 101 entries, date to m3_rating_t\n",
    "\n",
    "dtypes: float64(76), int64(16), object(9)\n",
    "\n",
    "memory usage: 295.4+ MB"
   ]
  },
  {
   "cell_type": "code",
   "execution_count": null,
   "id": "a9437de6",
   "metadata": {},
   "outputs": [],
   "source": [
    "df = pd.read_csv(\"data/raw/players.csv\", parse_dates=[\"date\"])\n",
    "\n",
    "cat_cols = [\"player_name\",\"team\",\"country\",\"event_name\",\"map_1\",\"map_2\",\"map_3\"]\n",
    "for c in cat_cols:\n",
    "    df[c] = df[c].astype(\"category\")\n",
    "\n",
    "int_cols = df.select_dtypes(include=[\"int64\"]).columns\n",
    "float_cols = df.select_dtypes(include=[\"float64\"]).columns\n",
    "df[int_cols] = df[int_cols].apply(pd.to_numeric, downcast=\"integer\")\n",
    "df[float_cols] = df[float_cols].apply(pd.to_numeric, downcast=\"float\")\n",
    "\n",
    "df.to_parquet(\"data/raw/players.parquet\", index=False, compression=\"zstd\")"
   ]
  },
  {
   "cell_type": "code",
   "execution_count": null,
   "id": "a834f75d",
   "metadata": {},
   "outputs": [
    {
     "data": {
      "text/plain": [
       "date           datetime64[ns]\n",
       "player_name          category\n",
       "team                 category\n",
       "opponent               object\n",
       "country              category\n",
       "                    ...      \n",
       "m3_deaths_t           float32\n",
       "m3_kddiff_t           float32\n",
       "m3_adr_t              float32\n",
       "m3_kast_t             float32\n",
       "m3_rating_t           float32\n",
       "Length: 101, dtype: object"
      ]
     },
     "execution_count": 54,
     "metadata": {},
     "output_type": "execute_result"
    }
   ],
   "source": [
    "df = pd.read_parquet(\"data/parquet/year=2015/stats.parquet\")\n",
    "df.assign(\n",
    "    match_id = df['match_id'].astype('int64')\n",
    ")\n",
    "df.query(\"match_id == 2300086\")"
   ]
  }
 ],
 "metadata": {
  "kernelspec": {
   "display_name": "Python 3",
   "language": "python",
   "name": "python3"
  },
  "language_info": {
   "codemirror_mode": {
    "name": "ipython",
    "version": 3
   },
   "file_extension": ".py",
   "mimetype": "text/x-python",
   "name": "python",
   "nbconvert_exporter": "python",
   "pygments_lexer": "ipython3",
   "version": "3.13.1"
  }
 },
 "nbformat": 4,
 "nbformat_minor": 5
}
