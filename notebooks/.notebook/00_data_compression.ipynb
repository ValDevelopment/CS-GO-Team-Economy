{
 "cells": [
  {
   "cell_type": "code",
   "execution_count": 1,
   "id": "65fb17ee",
   "metadata": {},
   "outputs": [],
   "source": [
    "import numpy as np\n",
    "import pandas as pd\n",
    "import matplotlib as plot\n",
    "import os\n",
    "os.chdir(r\"C:\\Users\\Capta\\Documents\\GitHub\\csgo_econ_viz\")"
   ]
  },
  {
   "cell_type": "markdown",
   "id": "73aa308d",
   "metadata": {},
   "source": [
    "Initial attempt at compressing the players.csv data as it's too large. The actual dataframe will not be present in the "
   ]
  },
  {
   "cell_type": "code",
   "execution_count": null,
   "id": "f69fa8e0",
   "metadata": {},
   "outputs": [],
   "source": [
    "df = pd.read_csv(r\"C:\\Users\\Capta\\Desktop\\csgo_economy_viz\")\n",
    "df.to_csv(\"data/raw/players.csv.gz\", index=False, compression=\"gzip\")"
   ]
  }
 ],
 "metadata": {
  "kernelspec": {
   "display_name": "Python 3",
   "language": "python",
   "name": "python3"
  },
  "language_info": {
   "codemirror_mode": {
    "name": "ipython",
    "version": 3
   },
   "file_extension": ".py",
   "mimetype": "text/x-python",
   "name": "python",
   "nbconvert_exporter": "python",
   "pygments_lexer": "ipython3",
   "version": "3.13.1"
  }
 },
 "nbformat": 4,
 "nbformat_minor": 5
}
